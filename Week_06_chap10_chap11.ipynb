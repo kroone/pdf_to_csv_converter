{
 "cells": [
  {
   "cell_type": "markdown",
   "metadata": {},
   "source": [
    "# Import"
   ]
  },
  {
   "cell_type": "code",
   "execution_count": 1,
   "metadata": {
    "executionInfo": {
     "elapsed": 7403,
     "status": "ok",
     "timestamp": 1606649218455,
     "user": {
      "displayName": "Stefan K",
      "photoUrl": "",
      "userId": "13202381122687390794"
     },
     "user_tz": -60
    },
    "id": "GfOZsUWwwL3I"
   },
   "outputs": [],
   "source": [
    "import arviz as az\n",
    "import matplotlib.pyplot as plt\n",
    "import numpy as np\n",
    "import pandas as pd\n",
    "import pymc3 as pm\n",
    "from theano import shared\n",
    "import seaborn as sns\n",
    "from scipy import stats\n",
    "from scipy.optimize import curve_fit\n",
    "import daft\n",
    "from causalgraphicalmodels import CausalGraphicalModel\n",
    "import logging\n",
    "\n",
    "BASE_URL = \"https://raw.githubusercontent.com/rmcelreath/rethinking/master/data\"\n",
    "\n",
    "def precis(trace, var_names=None):\n",
    "    s = az.summary(trace, hdi_prob=0.89, round_to=2, var_names=var_names)\n",
    "    return s[['mean', 'sd', 'hdi_5.5%','hdi_94.5%']]\n",
    "\n",
    "def scale(series):\n",
    "    \"\"\"Standardize a pandas series\"\"\"\n",
    "    return (series - series.mean()) / series.std()\n",
    "\n",
    "%config Inline.figure_format = 'retina'\n",
    "az.style.use('arviz-darkgrid')\n",
    "np.random.seed(0)"
   ]
  },
  {
   "cell_type": "code",
   "execution_count": 30,
   "metadata": {
    "colab": {
     "base_uri": "https://localhost:8080/"
    },
    "executionInfo": {
     "elapsed": 8239,
     "status": "ok",
     "timestamp": 1606649219297,
     "user": {
      "displayName": "Stefan K",
      "photoUrl": "",
      "userId": "13202381122687390794"
     },
     "user_tz": -60
    },
    "id": "Eff2LjYLwTAc",
    "outputId": "50178e5b-c5e7-48c1-d1df-75045c279518"
   },
   "outputs": [],
   "source": [
    "from tqdm.notebook import tqdm\n",
    "import statsmodels.formula.api as smf\n",
    "from scipy import stats\n",
    "import statsmodels.api as sm\n",
    "from scipy.special import logsumexp\n",
    "from patsy import dmatrix\n",
    "\n",
    "from scipy.special import expit as logistic\n",
    "from scipy.special import softmax"
   ]
  },
  {
   "cell_type": "markdown",
   "metadata": {
    "id": "vDELHv-AwYFi"
   },
   "source": [
    "# Chapter 10"
   ]
  },
  {
   "cell_type": "markdown",
   "metadata": {
    "id": "5YmGpN2IwZ0Y"
   },
   "source": [
    "Lecutre 11: https://www.youtube.com/watch?v=-4y4X8ELcEM&list=PLDcUM9US4XdNM4Edgs7weiyIguLSToZRI&index=11&ab_channel=RichardMcElreath\n",
    "\n"
   ]
  },
  {
   "cell_type": "markdown",
   "metadata": {
    "id": "isObiJd5wkbX"
   },
   "source": [
    "All Credits go to: https://github.com/pymc-devs/resources/blob/master/Rethinking_2/Chp_10.ipynb\n",
    "Whenever I got stuck, I would just copy the solution from here."
   ]
  },
  {
   "cell_type": "markdown",
   "metadata": {
    "id": "TCc6626bzGrj"
   },
   "source": [
    "## 10.1 Maximum Entropy"
   ]
  },
  {
   "cell_type": "markdown",
   "metadata": {
    "executionInfo": {
     "elapsed": 1113,
     "status": "ok",
     "timestamp": 1606649931033,
     "user": {
      "displayName": "Stefan K",
      "photoUrl": "",
      "userId": "13202381122687390794"
     },
     "user_tz": -60
    },
    "id": "tgi2tUDrzFO2"
   },
   "source": [
    "### Code 10.1"
   ]
  },
  {
   "cell_type": "code",
   "execution_count": 16,
   "metadata": {
    "id": "osCmOvxAzBnY"
   },
   "outputs": [
    {
     "data": {
      "text/html": [
       "<div>\n",
       "<style scoped>\n",
       "    .dataframe tbody tr th:only-of-type {\n",
       "        vertical-align: middle;\n",
       "    }\n",
       "\n",
       "    .dataframe tbody tr th {\n",
       "        vertical-align: top;\n",
       "    }\n",
       "\n",
       "    .dataframe thead th {\n",
       "        text-align: right;\n",
       "    }\n",
       "</style>\n",
       "<table border=\"1\" class=\"dataframe\">\n",
       "  <thead>\n",
       "    <tr style=\"text-align: right;\">\n",
       "      <th></th>\n",
       "      <th>A</th>\n",
       "      <th>B</th>\n",
       "      <th>C</th>\n",
       "      <th>D</th>\n",
       "      <th>E</th>\n",
       "    </tr>\n",
       "  </thead>\n",
       "  <tbody>\n",
       "    <tr>\n",
       "      <th>0</th>\n",
       "      <td>0</td>\n",
       "      <td>0</td>\n",
       "      <td>0</td>\n",
       "      <td>1</td>\n",
       "      <td>2</td>\n",
       "    </tr>\n",
       "    <tr>\n",
       "      <th>1</th>\n",
       "      <td>0</td>\n",
       "      <td>1</td>\n",
       "      <td>2</td>\n",
       "      <td>2</td>\n",
       "      <td>2</td>\n",
       "    </tr>\n",
       "    <tr>\n",
       "      <th>2</th>\n",
       "      <td>10</td>\n",
       "      <td>8</td>\n",
       "      <td>6</td>\n",
       "      <td>4</td>\n",
       "      <td>2</td>\n",
       "    </tr>\n",
       "    <tr>\n",
       "      <th>3</th>\n",
       "      <td>0</td>\n",
       "      <td>1</td>\n",
       "      <td>2</td>\n",
       "      <td>2</td>\n",
       "      <td>2</td>\n",
       "    </tr>\n",
       "    <tr>\n",
       "      <th>4</th>\n",
       "      <td>0</td>\n",
       "      <td>0</td>\n",
       "      <td>0</td>\n",
       "      <td>1</td>\n",
       "      <td>2</td>\n",
       "    </tr>\n",
       "  </tbody>\n",
       "</table>\n",
       "</div>"
      ],
      "text/plain": [
       "    A  B  C  D  E\n",
       "0   0  0  0  1  2\n",
       "1   0  1  2  2  2\n",
       "2  10  8  6  4  2\n",
       "3   0  1  2  2  2\n",
       "4   0  0  0  1  2"
      ]
     },
     "execution_count": 16,
     "metadata": {},
     "output_type": "execute_result"
    }
   ],
   "source": [
    "p = pd.DataFrame()\n",
    "p = p.assign(A=(0,0,10,0,0), B=(0,1,8,1,0), C=(0,2,6,2,0), D=(1,2,4,2,1), E=(2,2,2,2,2))\n",
    "p"
   ]
  },
  {
   "cell_type": "markdown",
   "metadata": {
    "id": "e-rA78I2wkB5"
   },
   "source": [
    "### Code 10.2"
   ]
  },
  {
   "cell_type": "code",
   "execution_count": 19,
   "metadata": {
    "id": "a_TYJLMzwVkV"
   },
   "outputs": [
    {
     "data": {
      "text/html": [
       "<div>\n",
       "<style scoped>\n",
       "    .dataframe tbody tr th:only-of-type {\n",
       "        vertical-align: middle;\n",
       "    }\n",
       "\n",
       "    .dataframe tbody tr th {\n",
       "        vertical-align: top;\n",
       "    }\n",
       "\n",
       "    .dataframe thead th {\n",
       "        text-align: right;\n",
       "    }\n",
       "</style>\n",
       "<table border=\"1\" class=\"dataframe\">\n",
       "  <thead>\n",
       "    <tr style=\"text-align: right;\">\n",
       "      <th></th>\n",
       "      <th>A</th>\n",
       "      <th>B</th>\n",
       "      <th>C</th>\n",
       "      <th>D</th>\n",
       "      <th>E</th>\n",
       "    </tr>\n",
       "  </thead>\n",
       "  <tbody>\n",
       "    <tr>\n",
       "      <th>0</th>\n",
       "      <td>0.0</td>\n",
       "      <td>0.0</td>\n",
       "      <td>0.0</td>\n",
       "      <td>0.1</td>\n",
       "      <td>0.2</td>\n",
       "    </tr>\n",
       "    <tr>\n",
       "      <th>1</th>\n",
       "      <td>0.0</td>\n",
       "      <td>0.1</td>\n",
       "      <td>0.2</td>\n",
       "      <td>0.2</td>\n",
       "      <td>0.2</td>\n",
       "    </tr>\n",
       "    <tr>\n",
       "      <th>2</th>\n",
       "      <td>1.0</td>\n",
       "      <td>0.8</td>\n",
       "      <td>0.6</td>\n",
       "      <td>0.4</td>\n",
       "      <td>0.2</td>\n",
       "    </tr>\n",
       "    <tr>\n",
       "      <th>3</th>\n",
       "      <td>0.0</td>\n",
       "      <td>0.1</td>\n",
       "      <td>0.2</td>\n",
       "      <td>0.2</td>\n",
       "      <td>0.2</td>\n",
       "    </tr>\n",
       "    <tr>\n",
       "      <th>4</th>\n",
       "      <td>0.0</td>\n",
       "      <td>0.0</td>\n",
       "      <td>0.0</td>\n",
       "      <td>0.1</td>\n",
       "      <td>0.2</td>\n",
       "    </tr>\n",
       "  </tbody>\n",
       "</table>\n",
       "</div>"
      ],
      "text/plain": [
       "     A    B    C    D    E\n",
       "0  0.0  0.0  0.0  0.1  0.2\n",
       "1  0.0  0.1  0.2  0.2  0.2\n",
       "2  1.0  0.8  0.6  0.4  0.2\n",
       "3  0.0  0.1  0.2  0.2  0.2\n",
       "4  0.0  0.0  0.0  0.1  0.2"
      ]
     },
     "execution_count": 19,
     "metadata": {},
     "output_type": "execute_result"
    }
   ],
   "source": [
    "p_norm = p / p.sum()\n",
    "p_norm"
   ]
  },
  {
   "cell_type": "markdown",
   "metadata": {},
   "source": [
    "### Code 10.3"
   ]
  },
  {
   "cell_type": "code",
   "execution_count": 30,
   "metadata": {},
   "outputs": [
    {
     "data": {
      "text/plain": [
       "[-0.0, 0.6390319, 0.9502705, 1.4708085, 1.6094379]"
      ]
     },
     "execution_count": 30,
     "metadata": {},
     "output_type": "execute_result"
    }
   ],
   "source": [
    "vals = []\n",
    "for col in p_norm.columns:\n",
    "    vals.append(-sum([0 if q == 0 else q*np.log(q) for q in p_norm[col]]).round(7))\n",
    "vals"
   ]
  },
  {
   "cell_type": "markdown",
   "metadata": {},
   "source": [
    "# Chapter 11"
   ]
  },
  {
   "cell_type": "markdown",
   "metadata": {},
   "source": [
    "All Credits go to: https://github.com/pymc-devs/resources/blob/master/Rethinking_2/Chp_11.ipynb\n",
    "Whenever I got stuck, I would just copy the solution from here."
   ]
  },
  {
   "cell_type": "markdown",
   "metadata": {},
   "source": [
    "## Binomial Regression"
   ]
  },
  {
   "cell_type": "markdown",
   "metadata": {},
   "source": [
    "### Code 11.1"
   ]
  },
  {
   "cell_type": "code",
   "execution_count": 3,
   "metadata": {},
   "outputs": [],
   "source": [
    "url = 'https://raw.githubusercontent.com/rmcelreath/rethinking/f9c16bb7faec8a9883d976a769824b1764d12540/data/chimpanzees.csv'\n",
    "d = pd.read_csv(url, sep=';')"
   ]
  },
  {
   "cell_type": "code",
   "execution_count": 4,
   "metadata": {},
   "outputs": [
    {
     "data": {
      "text/html": [
       "<div>\n",
       "<style scoped>\n",
       "    .dataframe tbody tr th:only-of-type {\n",
       "        vertical-align: middle;\n",
       "    }\n",
       "\n",
       "    .dataframe tbody tr th {\n",
       "        vertical-align: top;\n",
       "    }\n",
       "\n",
       "    .dataframe thead th {\n",
       "        text-align: right;\n",
       "    }\n",
       "</style>\n",
       "<table border=\"1\" class=\"dataframe\">\n",
       "  <thead>\n",
       "    <tr style=\"text-align: right;\">\n",
       "      <th></th>\n",
       "      <th>actor</th>\n",
       "      <th>recipient</th>\n",
       "      <th>condition</th>\n",
       "      <th>block</th>\n",
       "      <th>trial</th>\n",
       "      <th>prosoc_left</th>\n",
       "      <th>chose_prosoc</th>\n",
       "      <th>pulled_left</th>\n",
       "    </tr>\n",
       "  </thead>\n",
       "  <tbody>\n",
       "    <tr>\n",
       "      <th>0</th>\n",
       "      <td>1</td>\n",
       "      <td>NaN</td>\n",
       "      <td>0</td>\n",
       "      <td>1</td>\n",
       "      <td>2</td>\n",
       "      <td>0</td>\n",
       "      <td>1</td>\n",
       "      <td>0</td>\n",
       "    </tr>\n",
       "    <tr>\n",
       "      <th>1</th>\n",
       "      <td>1</td>\n",
       "      <td>NaN</td>\n",
       "      <td>0</td>\n",
       "      <td>1</td>\n",
       "      <td>4</td>\n",
       "      <td>0</td>\n",
       "      <td>0</td>\n",
       "      <td>1</td>\n",
       "    </tr>\n",
       "    <tr>\n",
       "      <th>2</th>\n",
       "      <td>1</td>\n",
       "      <td>NaN</td>\n",
       "      <td>0</td>\n",
       "      <td>1</td>\n",
       "      <td>6</td>\n",
       "      <td>1</td>\n",
       "      <td>0</td>\n",
       "      <td>0</td>\n",
       "    </tr>\n",
       "    <tr>\n",
       "      <th>3</th>\n",
       "      <td>1</td>\n",
       "      <td>NaN</td>\n",
       "      <td>0</td>\n",
       "      <td>1</td>\n",
       "      <td>8</td>\n",
       "      <td>0</td>\n",
       "      <td>1</td>\n",
       "      <td>0</td>\n",
       "    </tr>\n",
       "    <tr>\n",
       "      <th>4</th>\n",
       "      <td>1</td>\n",
       "      <td>NaN</td>\n",
       "      <td>0</td>\n",
       "      <td>1</td>\n",
       "      <td>10</td>\n",
       "      <td>1</td>\n",
       "      <td>1</td>\n",
       "      <td>1</td>\n",
       "    </tr>\n",
       "  </tbody>\n",
       "</table>\n",
       "</div>"
      ],
      "text/plain": [
       "   actor  recipient  condition  block  trial  prosoc_left  chose_prosoc  \\\n",
       "0      1        NaN          0      1      2            0             1   \n",
       "1      1        NaN          0      1      4            0             0   \n",
       "2      1        NaN          0      1      6            1             0   \n",
       "3      1        NaN          0      1      8            0             1   \n",
       "4      1        NaN          0      1     10            1             1   \n",
       "\n",
       "   pulled_left  \n",
       "0            0  \n",
       "1            1  \n",
       "2            0  \n",
       "3            0  \n",
       "4            1  "
      ]
     },
     "execution_count": 4,
     "metadata": {},
     "output_type": "execute_result"
    }
   ],
   "source": [
    "d.head()"
   ]
  },
  {
   "cell_type": "markdown",
   "metadata": {},
   "source": [
    "### Code 11.2"
   ]
  },
  {
   "cell_type": "code",
   "execution_count": 5,
   "metadata": {},
   "outputs": [],
   "source": [
    "d['treatment'] = 1 + d.prosoc_left + 2*d.condition"
   ]
  },
  {
   "cell_type": "markdown",
   "metadata": {},
   "source": [
    "### Code 11.3"
   ]
  },
  {
   "cell_type": "code",
   "execution_count": 6,
   "metadata": {},
   "outputs": [
    {
     "data": {
      "text/plain": [
       "array([1, 2, 3, 4])"
      ]
     },
     "execution_count": 6,
     "metadata": {},
     "output_type": "execute_result"
    }
   ],
   "source": [
    "d['treatment'].unique()"
   ]
  },
  {
   "cell_type": "markdown",
   "metadata": {},
   "source": [
    "### Code 11.4 + Code 11.5"
   ]
  },
  {
   "cell_type": "code",
   "execution_count": 22,
   "metadata": {},
   "outputs": [
    {
     "name": "stderr",
     "output_type": "stream",
     "text": [
      "Auto-assigning NUTS sampler...\n",
      "Initializing NUTS using jitter+adapt_diag...\n",
      "Multiprocess sampling (2 chains in 2 jobs)\n",
      "NUTS: [a]\n"
     ]
    },
    {
     "data": {
      "text/html": [
       "\n",
       "    <div>\n",
       "        <style>\n",
       "            /* Turns off some styling */\n",
       "            progress {\n",
       "                /* gets rid of default border in Firefox and Opera. */\n",
       "                border: none;\n",
       "                /* Needs to be in here for Safari polyfill so background images work as expected. */\n",
       "                background-size: auto;\n",
       "            }\n",
       "            .progress-bar-interrupted, .progress-bar-interrupted::-webkit-progress-bar {\n",
       "                background: #F44336;\n",
       "            }\n",
       "        </style>\n",
       "      <progress value='22000' class='' max='22000' style='width:300px; height:20px; vertical-align: middle;'></progress>\n",
       "      100.00% [22000/22000 00:12<00:00 Sampling 2 chains, 0 divergences]\n",
       "    </div>\n",
       "    "
      ],
      "text/plain": [
       "<IPython.core.display.HTML object>"
      ]
     },
     "metadata": {},
     "output_type": "display_data"
    },
    {
     "name": "stderr",
     "output_type": "stream",
     "text": [
      "Sampling 2 chains for 1_000 tune and 10_000 draw iterations (2_000 + 20_000 draws total) took 12 seconds.\n",
      "Auto-assigning NUTS sampler...\n",
      "Initializing NUTS using jitter+adapt_diag...\n",
      "Multiprocess sampling (2 chains in 2 jobs)\n",
      "NUTS: [a]\n"
     ]
    },
    {
     "data": {
      "text/html": [
       "\n",
       "    <div>\n",
       "        <style>\n",
       "            /* Turns off some styling */\n",
       "            progress {\n",
       "                /* gets rid of default border in Firefox and Opera. */\n",
       "                border: none;\n",
       "                /* Needs to be in here for Safari polyfill so background images work as expected. */\n",
       "                background-size: auto;\n",
       "            }\n",
       "            .progress-bar-interrupted, .progress-bar-interrupted::-webkit-progress-bar {\n",
       "                background: #F44336;\n",
       "            }\n",
       "        </style>\n",
       "      <progress value='22000' class='' max='22000' style='width:300px; height:20px; vertical-align: middle;'></progress>\n",
       "      100.00% [22000/22000 00:09<00:00 Sampling 2 chains, 0 divergences]\n",
       "    </div>\n",
       "    "
      ],
      "text/plain": [
       "<IPython.core.display.HTML object>"
      ]
     },
     "metadata": {},
     "output_type": "display_data"
    },
    {
     "name": "stderr",
     "output_type": "stream",
     "text": [
      "Sampling 2 chains for 1_000 tune and 10_000 draw iterations (2_000 + 20_000 draws total) took 10 seconds.\n"
     ]
    }
   ],
   "source": [
    "with pm.Model() as m11_1:\n",
    "    a = pm.Normal('a', 0, 10)\n",
    "    p = pm.Deterministic('p', pm.math.invlogit(a))\n",
    "    pulled_left = pm.Binomial('pulled_left', 1, p, observed=d.pulled_left)\n",
    "    \n",
    "    m11_1_trace = pm.sample(10000)\n",
    "    prior_m11_1 = pm.sample_prior_predictive(samples=10000)\n",
    "    idata11_1 = az.from_pymc3(prior=prior_m11_1)\n",
    "    \n",
    "    \n",
    "with pm.Model() as m11_1_alt:\n",
    "    a = pm.Normal('a', 0, 1.5)\n",
    "    p = pm.Deterministic('p', pm.math.invlogit(a))\n",
    "    pulled_left = pm.Binomial('pulled_left', 1, p, observed=d.pulled_left)\n",
    "    \n",
    "    m11_1_alt_trace = pm.sample(10000)\n",
    "    prior_m11_1_alt = pm.sample_prior_predictive(samples=10000)\n",
    "    idata11_1_alt = az.from_pymc3(prior=prior_m11_1_alt)"
   ]
  },
  {
   "cell_type": "markdown",
   "metadata": {},
   "source": [
    "### Code 11.6"
   ]
  },
  {
   "cell_type": "code",
   "execution_count": 24,
   "metadata": {},
   "outputs": [
    {
     "data": {
      "image/png": "[encoded data removed]",
      "text/plain": [
       "<Figure size 720x480 with 1 Axes>"
      ]
     },
     "metadata": {},
     "output_type": "display_data"
    }
   ],
   "source": [
    "ax = az.plot_density(\n",
    "    [idata11_1, idata11_1_alt],\n",
    "    data_labels=[\"a ~ Normal(0, 10)\", \"a ~ Normal(0, 1.5)\"],\n",
    "    group=\"prior\",\n",
    "    colors=[\"k\", \"b\"],\n",
    "    var_names=[\"p\"],\n",
    "    point_estimate=None,\n",
    ")\n",
    "plt.xlabel(\"prior prob pull left\")\n",
    "plt.ylabel(\"Density\")\n",
    "plt.title(\"Prior predictive simulations for p\");"
   ]
  },
  {
   "cell_type": "markdown",
   "metadata": {},
   "source": [
    "## Code 11.7 - 11.9"
   ]
  },
  {
   "cell_type": "code",
   "execution_count": 35,
   "metadata": {},
   "outputs": [],
   "source": [
    "treatment = pd.factorize(d.treatment)"
   ]
  },
  {
   "cell_type": "code",
   "execution_count": 66,
   "metadata": {},
   "outputs": [],
   "source": [
    "with pm.Model() as m11_2:\n",
    "    a = pm.Normal('a', 0, 1.5)\n",
    "    b = pm.Normal('b', 0, 10, shape=treatment[1].size)\n",
    "    p = pm.Deterministic('p', pm.math.invlogit(a + b[treatment[0]]))\n",
    "    pulled_left = pm.Binomial('pulled_left', 1, p, observed=d.pulled_left)\n",
    "    \n",
    "    prior_11_2 = pm.sample_prior_predictive(samples=10000)\n",
    "    idata_11_2 = az.from_pymc3(prior=prior_11_2)\n",
    "\n",
    "prior_11_2 = idata_11_2.prior\n",
    "\n",
    "with pm.Model() as m11_2_alt:\n",
    "    a = pm.Normal('a', 0, 1.5)\n",
    "    b = pm.Normal('b', 0, 0.5, shape=treatment[1].size)\n",
    "    p = pm.Deterministic('p', pm.math.invlogit(a + b[treatment[0]]))\n",
    "    pulled_left = pm.Binomial('pulled_left', 1, p, observed=d.pulled_left)\n",
    "    \n",
    "    prior_11_2_alt = pm.sample_prior_predictive(samples=10000)\n",
    "    idata_11_2_alt = az.from_pymc3(prior=prior_11_2_alt)\n",
    "\n",
    "prior_11_2_alt = idata_11_2_alt.prior"
   ]
  },
  {
   "cell_type": "code",
   "execution_count": 67,
   "metadata": {},
   "outputs": [],
   "source": [
    "p_treat1, p_treat2 = (\n",
    "    logistic(prior_11_2[\"a\"] + prior_11_2[\"b\"].sel(b_dim_0=0)),\n",
    "    logistic(prior_11_2[\"a\"] + prior_11_2[\"b\"].sel(b_dim_0=1)),\n",
    ")"
   ]
  },
  {
   "cell_type": "code",
   "execution_count": 68,
   "metadata": {},
   "outputs": [],
   "source": [
    "p_treat1_alt, p_treat2_alt = (\n",
    "    logistic(prior_11_2_alt[\"a\"] + prior_11_2_alt[\"b\"].sel(b_dim_0=0)),\n",
    "    logistic(prior_11_2_alt[\"a\"] + prior_11_2_alt[\"b\"].sel(b_dim_0=1)),\n",
    ")"
   ]
  },
  {
   "cell_type": "code",
   "execution_count": 69,
   "metadata": {},
   "outputs": [
    {
     "data": {
      "image/png": "[encoded data removed]",
      "text/plain": [
       "<Figure size 720x480 with 1 Axes>"
      ]
     },
     "metadata": {},
     "output_type": "display_data"
    }
   ],
   "source": [
    "ax = az.plot_density(\n",
    "    [np.abs(p_treat1 - p_treat2).values, np.abs(p_treat1_alt - p_treat2_alt).values],\n",
    "    data_labels=[\"b ~ Normal(0, 10)\", \"b ~ Normal(0, 1.5)\"],\n",
    "    group=\"prior\",\n",
    "    colors=[\"k\", \"b\"],\n",
    "    point_estimate=None,\n",
    ")\n",
    "plt.xlabel(\"prior diff between treatments\")\n",
    "plt.ylabel(\"Density\")\n",
    "plt.title(None)\n",
    "plt.show()"
   ]
  },
  {
   "cell_type": "code",
   "execution_count": null,
   "metadata": {},
   "outputs": [],
   "source": []
  }
 ],
 "metadata": {
  "colab": {
   "authorship_tag": "ABX9TyP0jvb+oI1vcQ6/s7HyUw6U",
   "name": "Week_06_chap10_chap11.ipynb",
   "provenance": []
  },
  "kernelspec": {
   "display_name": "Python 3",
   "language": "python",
   "name": "python3"
  },
  "language_info": {
   "codemirror_mode": {
    "name": "ipython",
    "version": 3
   },
   "file_extension": ".py",
   "mimetype": "text/x-python",
   "name": "python",
   "nbconvert_exporter": "python",
   "pygments_lexer": "ipython3",
   "version": "3.8.6"
  },
  "toc-autonumbering": true
 },
 "nbformat": 4,
 "nbformat_minor": 4
}
