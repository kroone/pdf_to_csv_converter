{
 "cells": [
  {
   "cell_type": "code",
   "execution_count": 4,
   "metadata": {},
   "outputs": [],
   "source": [
    "import pdfplumber\n",
    "import re, os\n",
    "import pandas as pd\n",
    "from math import floor"
   ]
  },
  {
   "cell_type": "markdown",
   "metadata": {},
   "source": [
    "# Define"
   ]
  },
  {
   "cell_type": "code",
   "execution_count": 5,
   "metadata": {},
   "outputs": [],
   "source": [
    "def MLP_Buy_Sell_Invoice(text):\n",
    "    insert_dict = {}\n",
    "\n",
    "    pattern_invoice = '(?<=Rechnungsnummer )\\S+(?=\\\\n)'\n",
    "    invoice = re.findall(pattern_invoice, text)[0]\n",
    "    insert_dict['Notiz'] = 'File: ' + input_file + '; Rechnung: ' + invoice\n",
    "\n",
    "    pattern_invoice_type = '(?<=Wertpapier Abrechnung )\\S+(?=\\\\n)'\n",
    "    invoice_type = re.findall(pattern_invoice_type, text)[0]\n",
    "    insert_dict['Typ'] = invoice_type\n",
    "\n",
    "\n",
    "    pattern_amount = '(?<=Stück ).+'\n",
    "    desc_list = re.findall(pattern_amount, text)[0].split(' ')\n",
    "    insert_dict['Wertpapiername'] = ' '.join(desc_list[1:-2])\n",
    "    amount = float(desc_list[0].replace(',', '.'))\n",
    "    insert_dict['Stück'] = amount\n",
    "    insert_dict['ISIN'] = invoice = desc_list[-2]\n",
    "    insert_dict['WKN'] = desc_list[-1][1:-1]\n",
    "    \n",
    "    pattern_price = '(?<=hrungskurs )\\S+'\n",
    "    price = re.findall(pattern_price, text)[0]\n",
    "    price = float(price.replace(',', '.'))\n",
    "\n",
    "    insert_dict['Wert'] = round(price * insert_dict['Stück'], 2)\n",
    "\n",
    "    pattern_day = '(?<=Schlusstag )\\S+(?=\\\\n)'\n",
    "    day = re.findall(pattern_day, text)[0]\n",
    "    insert_dict['Datum'] = pd.to_datetime(day).strftime('%Y-%m-%dT%H:%M')\n",
    "\n",
    "\n",
    "    pattern_value = '(?<=Kurswert )\\S+'\n",
    "    value_input = re.findall(pattern_value, text)[0]\n",
    "    value = float(value_input.replace('.', '').replace(',', '.').replace('-', ''))\n",
    "    pattern_value_final = '(?<=Ausmachender Betrag )\\S+'\n",
    "    value_final = re.findall(pattern_value, text)[0]\n",
    "    value_final = float(value_final.replace('.', '').replace(',', '.').replace('-', ''))\n",
    "    insert_dict['Gebühren'] = value_final - value\n",
    "\n",
    "    insert_dict['Stück'] = str(insert_dict['Stück']).replace('.', ',')\n",
    "    insert_dict['Wert'] = str(insert_dict['Wert']).replace('.', ',')\n",
    "    insert_dict['Gebühren'] = str(insert_dict['Gebühren']).replace('.', ',')\n",
    "\n",
    "    check_values = floor(price * amount) == floor(value_final)\n",
    "    #print(floor(price * amount), floor(value_final))\n",
    "    assert(check_values)\n",
    "\n",
    "    return insert_dict#, {'amount':amount, 'price':price, 'value':value_final}"
   ]
  },
  {
   "cell_type": "code",
   "execution_count": 20,
   "metadata": {},
   "outputs": [],
   "source": [
    "def MLP_Dividends(text):\n",
    "    insert_dict = {}\n",
    "\n",
    "    pattern_invoice = '(?<=Abrechnungsnr. )\\S+'\n",
    "    invoice = re.findall(pattern_invoice, text)[0]\n",
    "    insert_dict['Notiz'] = 'File: ' + input_file + '; Rechnung: ' + invoice\n",
    "\n",
    "    insert_dict['Typ'] = 'Dividende'\n",
    "\n",
    "    pattern_amount = '(?<=Stück ).+'\n",
    "    desc_list = re.findall(pattern_amount, text)[0].split(' ')\n",
    "    insert_dict['Wertpapiername'] = ' '.join(desc_list[1:-2])\n",
    "    amount = float(desc_list[0].replace(',', '.'))\n",
    "    insert_dict['Stück'] = amount\n",
    "    insert_dict['ISIN'] = invoice = desc_list[-2]\n",
    "    insert_dict['WKN'] = desc_list[-1][1:-1]\n",
    "\n",
    "    pattern_value = '(?<=Ausschüttung )\\d\\S+'\n",
    "    value = re.findall(pattern_value, text)[0]\n",
    "    value = float(value.replace(',', '.').replace('+',''))\n",
    "    value\n",
    "\n",
    "    pattern_value_taxed = '(?<=Ausmachender Betrag )\\d\\S+'\n",
    "    value_taxed = re.findall(pattern_value_taxed, text)[0]\n",
    "    value_taxed = float(value_taxed.replace(',', '.').replace('+',''))\n",
    "    value_taxed\n",
    "\n",
    "    insert_dict['Wert'] = round(value_taxed, 2)\n",
    "    insert_dict['Steuern'] = round(value - value_taxed, 2)\n",
    "\n",
    "    pattern_day = '(?<=Datum )\\S+(?=\\\\n)'\n",
    "    day = re.findall(pattern_day, text)[0]\n",
    "    insert_dict['Datum'] = pd.to_datetime(day).strftime('%Y-%m-%dT%H:%M')\n",
    "    \n",
    "    insert_dict['Stück'] = str(insert_dict['Stück']).replace('.', ',')\n",
    "    insert_dict['Wert'] = str(insert_dict['Wert']).replace('.', ',')\n",
    "    insert_dict['Steuern'] = str(insert_dict['Steuern']).replace('.', ',')\n",
    "    \n",
    "    return insert_dict"
   ]
  },
  {
   "cell_type": "code",
   "execution_count": 21,
   "metadata": {},
   "outputs": [],
   "source": [
    "options_dict = {'MLP Banking AG': \n",
    "                            {'Wertpapier Abrechnung':MLP_Buy_Sell_Invoice,\n",
    "                            'Ausschüttung Investmentfonds':MLP_Dividends}\n",
    "               }"
   ]
  },
  {
   "cell_type": "code",
   "execution_count": 31,
   "metadata": {},
   "outputs": [],
   "source": [
    "def create_result_df():\n",
    "    cols = ['Datum', 'Typ', 'Wert', 'Buchungswährung', 'Bruttobetrag',\n",
    "           'Währung Bruttobetrag', 'Wechselkurs', 'Gebühren', 'Steuern', 'Stück',\n",
    "           'ISIN', 'WKN', 'Ticker-Symbol', 'Wertpapiername', 'Notiz']\n",
    "    df = pd.DataFrame(columns = cols)\n",
    "    return df"
   ]
  },
  {
   "cell_type": "markdown",
   "metadata": {},
   "source": [
    "# Input File"
   ]
  },
  {
   "cell_type": "code",
   "execution_count": 35,
   "metadata": {},
   "outputs": [
    {
     "name": "stdout",
     "output_type": "stream",
     "text": [
      "['Abrechnung_20200930_8516004237_EENSVZZQ.pdf', 'Ertragsabrechnung_20201029_8516004237_TSVHWYU4.pdf', 'Ertragsabrechnung_20201214_8516004237_JROKWKO3.pdf', 'example.pdf']\n"
     ]
    }
   ],
   "source": [
    "base_folder = 'data/example_data'\n",
    "base_folder_dest = 'data/example_output'\n",
    "filelist = os.listdir(base_folder)\n",
    "print(filelist)"
   ]
  },
  {
   "cell_type": "code",
   "execution_count": 38,
   "metadata": {},
   "outputs": [],
   "source": [
    "result_df = create_result_df()\n",
    "\n",
    "for input_file in filelist:\n",
    "    \n",
    "    with pdfplumber.open(os.path.join(base_folder, input_file)) as pdf:\n",
    "        first_page = pdf.pages[0]\n",
    "        text = first_page.extract_text()\n",
    "        #print(text)\n",
    "        \n",
    "    for bank in options_dict.keys():\n",
    "        if bank in text:\n",
    "            for invoice_type in options_dict[bank].keys():\n",
    "                if invoice_type in text:\n",
    "                    d = options_dict[bank][invoice_type](text)\n",
    "                    df_insert = pd.DataFrame.from_dict(d, orient='index').transpose()\n",
    "                    result_df = result_df.append(df_insert)\n",
    "    \n",
    "result_df.to_csv(os.path.join(base_folder_dest, '20201216_combined' + '.csv'), sep=';')"
   ]
  },
  {
   "cell_type": "markdown",
   "metadata": {},
   "source": [
    "# Output File"
   ]
  },
  {
   "cell_type": "code",
   "execution_count": 30,
   "metadata": {},
   "outputs": [],
   "source": []
  },
  {
   "cell_type": "code",
   "execution_count": null,
   "metadata": {},
   "outputs": [],
   "source": []
  }
 ],
 "metadata": {
  "kernelspec": {
   "display_name": "Python 3",
   "language": "python",
   "name": "python3"
  },
  "language_info": {
   "codemirror_mode": {
    "name": "ipython",
    "version": 3
   },
   "file_extension": ".py",
   "mimetype": "text/x-python",
   "name": "python",
   "nbconvert_exporter": "python",
   "pygments_lexer": "ipython3",
   "version": "3.8.6"
  }
 },
 "nbformat": 4,
 "nbformat_minor": 4
}
